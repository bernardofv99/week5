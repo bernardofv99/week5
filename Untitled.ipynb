{
 "cells": [
  {
   "cell_type": "code",
   "execution_count": 20,
   "id": "f7faf43d-3abb-40d5-8bfe-53130d51d4a0",
   "metadata": {},
   "outputs": [],
   "source": [
    "#include<iostream>\n",
    "#include<list>\n",
    "using namespace std;\n",
    "struct Entry{\n",
    "    string key, value;\n",
    "    size_t hashcode;\n",
    "    Entry(string _key,string _value){\n",
    "        key = _key;\n",
    "        value = _value;\n",
    "    }\n",
    "};\n",
    "\n",
    "list<Entry> *arr; // array\n",
    "arr = new list<Entry>[10];\n",
    "arr[0].push_front(Entry(\"abc\",\"UTEC\"));\n",
    "arr[0].push_front(Entry(\"xyz\",\"AED\"));"
   ]
  },
  {
   "cell_type": "code",
   "execution_count": 15,
   "id": "83c73930-8488-41d6-ac93-6749ff564ab3",
   "metadata": {},
   "outputs": [
    {
     "name": "stdout",
     "output_type": "stream",
     "text": [
      "7\n",
      "3\n"
     ]
    }
   ],
   "source": [
    "list<int>::iterator it = arr[0].begin();\n",
    "while(it!=arr[0].end()){\n",
    "    cout << *it << endl;\n",
    "    ++it;\n",
    "}"
   ]
  }
 ],
 "metadata": {
  "kernelspec": {
   "display_name": "C++11",
   "language": "C++11",
   "name": "xcpp11"
  },
  "language_info": {
   "codemirror_mode": "text/x-c++src",
   "file_extension": ".cpp",
   "mimetype": "text/x-c++src",
   "name": "c++",
   "version": "11"
  }
 },
 "nbformat": 4,
 "nbformat_minor": 5
}
