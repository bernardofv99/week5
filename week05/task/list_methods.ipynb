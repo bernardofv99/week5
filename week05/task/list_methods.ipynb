{
 "cells": [
  {
   "cell_type": "code",
   "execution_count": 1,
   "id": "b77e4217-b13e-4daa-a9bf-2a664ab9034f",
   "metadata": {},
   "outputs": [],
   "source": [
    "#include<iostream>\n",
    "#include<list>\n",
    "using namespace std;"
   ]
  },
  {
   "cell_type": "code",
   "execution_count": 2,
   "id": "b4629ccf-3ede-493c-9ed1-402aba1422ad",
   "metadata": {},
   "outputs": [],
   "source": [
    "list<int> l = {4,5,1,2,4,7};"
   ]
  },
  {
   "cell_type": "code",
   "execution_count": 3,
   "id": "1683b032-6568-4c7d-912d-b8abb6d40da9",
   "metadata": {},
   "outputs": [
    {
     "data": {
      "text/plain": [
       "{ 4, 5, 1, 2, 4, 7 }"
      ]
     },
     "execution_count": 3,
     "metadata": {},
     "output_type": "execute_result"
    }
   ],
   "source": [
    "l"
   ]
  },
  {
   "cell_type": "code",
   "execution_count": 9,
   "id": "a4681e34-ef63-4e05-b380-291cb3a3b3ac",
   "metadata": {},
   "outputs": [
    {
     "data": {
      "text/plain": [
       "{ 4, 5, 4, 7 }"
      ]
     },
     "execution_count": 9,
     "metadata": {},
     "output_type": "execute_result"
    }
   ],
   "source": [
    "auto it = l.begin();\n",
    "++it;\n",
    "++it;\n",
    "\n",
    "l.erase(it);\n",
    "l"
   ]
  },
  {
   "cell_type": "code",
   "execution_count": 10,
   "id": "07126fe8-b801-47bc-bb02-dba44ad69f73",
   "metadata": {},
   "outputs": [],
   "source": [
    "l.clear()"
   ]
  },
  {
   "cell_type": "code",
   "execution_count": 11,
   "id": "563c73f7-75cc-4a3c-ad1a-800d96bdcf33",
   "metadata": {},
   "outputs": [
    {
     "data": {
      "text/plain": [
       "{}"
      ]
     },
     "execution_count": 11,
     "metadata": {},
     "output_type": "execute_result"
    }
   ],
   "source": [
    "l"
   ]
  }
 ],
 "metadata": {
  "kernelspec": {
   "display_name": "C++17",
   "language": "C++17",
   "name": "xcpp17"
  },
  "language_info": {
   "codemirror_mode": "text/x-c++src",
   "file_extension": ".cpp",
   "mimetype": "text/x-c++src",
   "name": "c++",
   "version": "17"
  }
 },
 "nbformat": 4,
 "nbformat_minor": 5
}
